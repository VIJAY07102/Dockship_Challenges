{
 "cells": [
  {
   "cell_type": "code",
   "execution_count": 1,
   "metadata": {},
   "outputs": [],
   "source": [
    "import numpy as np\n",
    "import pandas as pd\n",
    "from sklearn import preprocessing\n",
    "from sklearn.model_selection import train_test_split\n",
    "from sklearn.linear_model import LinearRegression\n"
   ]
  },
  {
   "cell_type": "code",
   "execution_count": 213,
   "metadata": {},
   "outputs": [],
   "source": [
    "def prepare_data(df,test_size,i):\n",
    "    '''label = df[forecast_col].shift(-forecast_out) #creating new column called label with the last 5 rows are nan\n",
    "    X = np.array(df[[forecast_col]]) #creating the feature array\n",
    "    X = preprocessing.scale(X) #processing the feature array\n",
    "    X_lately = X[-forecast_out:] #creating the column i want to use later in the predicting method\n",
    "    X = X[:-forecast_out] # X that will contain the training and testing\n",
    "    label.dropna(inplace=True) #dropping na values\n",
    "    y = np.array(label)  # assigning Y'''\n",
    "    X = df.loc[:, f'Open-Stock-{i}':f'Turnover-Stock-{i}']\n",
    "    Y = df.loc[:,f'Close-Stock-{i}']\n",
    "    X_train, X_test, Y_train, Y_test = train_test_split(X, Y, test_size=test_size, random_state=0) #cross validation\n",
    "\n",
    "    response = [X_train,X_test , Y_train, Y_test]\n",
    "    return response"
   ]
  },
  {
   "cell_type": "code",
   "execution_count": 173,
   "metadata": {},
   "outputs": [],
   "source": [
    "df = pd.read_csv(\"new_train.csv\")\n",
    "#df = pd.concat([df,df1], sort = True)\n",
    "#df.fillna(0)"
   ]
  },
  {
   "cell_type": "code",
   "execution_count": 214,
   "metadata": {},
   "outputs": [],
   "source": [
    "df.fillna(0, inplace = True)\n",
    "data = []\n"
   ]
  },
  {
   "cell_type": "code",
   "execution_count": null,
   "metadata": {},
   "outputs": [],
   "source": []
  },
  {
   "cell_type": "code",
   "execution_count": 175,
   "metadata": {},
   "outputs": [],
   "source": [
    "#test_data = pd.concat([df,df1], sort = False)\n",
    "#test_data[-100:]"
   ]
  },
  {
   "cell_type": "code",
   "execution_count": 231,
   "metadata": {},
   "outputs": [],
   "source": [
    "df1 = pd.read_csv(\"new_test.csv\")\n",
    "test_data = []"
   ]
  },
  {
   "cell_type": "code",
   "execution_count": 243,
   "metadata": {},
   "outputs": [
    {
     "data": {
      "text/html": [
       "<div>\n",
       "<style scoped>\n",
       "    .dataframe tbody tr th:only-of-type {\n",
       "        vertical-align: middle;\n",
       "    }\n",
       "\n",
       "    .dataframe tbody tr th {\n",
       "        vertical-align: top;\n",
       "    }\n",
       "\n",
       "    .dataframe thead th {\n",
       "        text-align: right;\n",
       "    }\n",
       "</style>\n",
       "<table border=\"1\" class=\"dataframe\">\n",
       "  <thead>\n",
       "    <tr style=\"text-align: right;\">\n",
       "      <th></th>\n",
       "      <th>Open-Stock-1</th>\n",
       "      <th>High-Stock-1</th>\n",
       "      <th>Low-Stock-1</th>\n",
       "      <th>VWAP-Stock-1</th>\n",
       "      <th>Volume-Stock-1</th>\n",
       "      <th>Turnover-Stock-1</th>\n",
       "    </tr>\n",
       "  </thead>\n",
       "  <tbody>\n",
       "    <tr>\n",
       "      <th>0</th>\n",
       "      <td>484.1</td>\n",
       "      <td>488.90</td>\n",
       "      <td>475.00</td>\n",
       "      <td>481.00</td>\n",
       "      <td>1829606</td>\n",
       "      <td>88003633160000</td>\n",
       "    </tr>\n",
       "    <tr>\n",
       "      <th>1</th>\n",
       "      <td>465.0</td>\n",
       "      <td>475.80</td>\n",
       "      <td>457.10</td>\n",
       "      <td>469.56</td>\n",
       "      <td>3156094</td>\n",
       "      <td>148196817355000</td>\n",
       "    </tr>\n",
       "    <tr>\n",
       "      <th>2</th>\n",
       "      <td>463.0</td>\n",
       "      <td>480.00</td>\n",
       "      <td>458.05</td>\n",
       "      <td>465.04</td>\n",
       "      <td>4308373</td>\n",
       "      <td>200357861965000</td>\n",
       "    </tr>\n",
       "    <tr>\n",
       "      <th>3</th>\n",
       "      <td>450.0</td>\n",
       "      <td>473.55</td>\n",
       "      <td>449.85</td>\n",
       "      <td>460.88</td>\n",
       "      <td>4490924</td>\n",
       "      <td>206978212685000</td>\n",
       "    </tr>\n",
       "    <tr>\n",
       "      <th>4</th>\n",
       "      <td>494.8</td>\n",
       "      <td>494.80</td>\n",
       "      <td>473.40</td>\n",
       "      <td>478.06</td>\n",
       "      <td>3267226</td>\n",
       "      <td>156192368225000</td>\n",
       "    </tr>\n",
       "  </tbody>\n",
       "</table>\n",
       "</div>"
      ],
      "text/plain": [
       "   Open-Stock-1  High-Stock-1  Low-Stock-1  VWAP-Stock-1  Volume-Stock-1  \\\n",
       "0         484.1        488.90       475.00        481.00         1829606   \n",
       "1         465.0        475.80       457.10        469.56         3156094   \n",
       "2         463.0        480.00       458.05        465.04         4308373   \n",
       "3         450.0        473.55       449.85        460.88         4490924   \n",
       "4         494.8        494.80       473.40        478.06         3267226   \n",
       "\n",
       "   Turnover-Stock-1  \n",
       "0    88003633160000  \n",
       "1   148196817355000  \n",
       "2   200357861965000  \n",
       "3   206978212685000  \n",
       "4   156192368225000  "
      ]
     },
     "execution_count": 243,
     "metadata": {},
     "output_type": "execute_result"
    }
   ],
   "source": [
    "for i in range(1,6):\n",
    "    test_data.append(df1[['Date', f'Open-Stock-{i}',f'High-Stock-{i}', f'Low-Stock-{i}', f'VWAP-Stock-{i}', f'Volume-Stock-{i}', f'Turnover-Stock-{i}' ]])\n",
    "    test_data[i-1] = test_data[i-1].loc[:,f'Open-Stock-{i}': f'Turnover-Stock-{i}']\n",
    "test_data[0].head()"
   ]
  },
  {
   "cell_type": "code",
   "execution_count": 215,
   "metadata": {},
   "outputs": [],
   "source": [
    "for i in range(1,6):\n",
    "    data.append(df[['Date', f'Open-Stock-{i}',f'High-Stock-{i}', f'Low-Stock-{i}', f'VWAP-Stock-{i}', f'Volume-Stock-{i}', f'Turnover-Stock-{i}',  f'Close-Stock-{i}' ]])\n",
    "    \n"
   ]
  },
  {
   "cell_type": "code",
   "execution_count": 216,
   "metadata": {},
   "outputs": [],
   "source": [
    "#x = data[0].loc[:, 'Open-Stock-1':'Turnover-Stock-1']\n",
    "#x.head()"
   ]
  },
  {
   "cell_type": "code",
   "execution_count": 217,
   "metadata": {},
   "outputs": [],
   "source": [
    "test_size = []"
   ]
  },
  {
   "cell_type": "code",
   "execution_count": 256,
   "metadata": {},
   "outputs": [],
   "source": [
    "for i in range(1,6):\n",
    "    test_size.append(0.20)"
   ]
  },
  {
   "cell_type": "code",
   "execution_count": 257,
   "metadata": {},
   "outputs": [],
   "source": [
    "X_train, X_test, Y_train, Y_test  = [0 for i in range(5)], [0 for i in range(5)], [0 for i in range(5)], [0 for i in range(5)]\n",
    "learner = [1,1,1,1,1]"
   ]
  },
  {
   "cell_type": "code",
   "execution_count": 258,
   "metadata": {},
   "outputs": [],
   "source": [
    "for i in range(5):\n",
    "    X_train[i], X_test[i], Y_train[i], Y_test[i] =prepare_data(data[i],test_size[i],i+1)\n",
    "    learner[i] = LinearRegression()\n",
    "    learner[i].fit(X_train[i],Y_train[i])"
   ]
  },
  {
   "cell_type": "code",
   "execution_count": 259,
   "metadata": {},
   "outputs": [],
   "source": [
    "response={}\n",
    "for i in range(5):\n",
    "    score=learner[i].score(X_test[i],Y_test[i])#testing the linear regression model\n",
    "    #forecast= learner[i].predict(X_lately[i]) #set that will contain the forecasted data\n",
    "    response[f'test_score-{i+1}']=score\n",
    "    #response[f'forecast_set-{i+1}']=forecast"
   ]
  },
  {
   "cell_type": "code",
   "execution_count": 260,
   "metadata": {},
   "outputs": [
    {
     "name": "stdout",
     "output_type": "stream",
     "text": [
      "{'test_score-1': 0.9990515042642574, 'test_score-2': 0.9989971745575823, 'test_score-3': 0.9935925019112262, 'test_score-4': 0.9912800032158363, 'test_score-5': 0.9886046306777515}\n"
     ]
    }
   ],
   "source": [
    "print(response)"
   ]
  },
  {
   "cell_type": "code",
   "execution_count": 261,
   "metadata": {},
   "outputs": [],
   "source": [
    "forecast = {}\n",
    "for i in range(5):\n",
    "    forecast[f'Close-Stock-{i+1}'] = learner[i].predict(test_data[i])"
   ]
  },
  {
   "cell_type": "code",
   "execution_count": 262,
   "metadata": {},
   "outputs": [],
   "source": [
    "final = pd.DataFrame(forecast)"
   ]
  },
  {
   "cell_type": "code",
   "execution_count": 263,
   "metadata": {},
   "outputs": [
    {
     "data": {
      "text/html": [
       "<div>\n",
       "<style scoped>\n",
       "    .dataframe tbody tr th:only-of-type {\n",
       "        vertical-align: middle;\n",
       "    }\n",
       "\n",
       "    .dataframe tbody tr th {\n",
       "        vertical-align: top;\n",
       "    }\n",
       "\n",
       "    .dataframe thead th {\n",
       "        text-align: right;\n",
       "    }\n",
       "</style>\n",
       "<table border=\"1\" class=\"dataframe\">\n",
       "  <thead>\n",
       "    <tr style=\"text-align: right;\">\n",
       "      <th></th>\n",
       "      <th>Close-Stock-1</th>\n",
       "      <th>Close-Stock-2</th>\n",
       "      <th>Close-Stock-3</th>\n",
       "      <th>Close-Stock-4</th>\n",
       "      <th>Close-Stock-5</th>\n",
       "    </tr>\n",
       "  </thead>\n",
       "  <tbody>\n",
       "    <tr>\n",
       "      <th>0</th>\n",
       "      <td>479.667408</td>\n",
       "      <td>202.366006</td>\n",
       "      <td>3084.953802</td>\n",
       "      <td>999.938524</td>\n",
       "      <td>1294.683555</td>\n",
       "    </tr>\n",
       "    <tr>\n",
       "      <th>1</th>\n",
       "      <td>470.449775</td>\n",
       "      <td>194.575086</td>\n",
       "      <td>3045.467031</td>\n",
       "      <td>959.648997</td>\n",
       "      <td>1220.316296</td>\n",
       "    </tr>\n",
       "    <tr>\n",
       "      <th>2</th>\n",
       "      <td>470.607667</td>\n",
       "      <td>194.752952</td>\n",
       "      <td>3072.723835</td>\n",
       "      <td>959.585349</td>\n",
       "      <td>1242.834383</td>\n",
       "    </tr>\n",
       "    <tr>\n",
       "      <th>3</th>\n",
       "      <td>468.387449</td>\n",
       "      <td>198.866506</td>\n",
       "      <td>3110.561047</td>\n",
       "      <td>948.366794</td>\n",
       "      <td>1207.802591</td>\n",
       "    </tr>\n",
       "    <tr>\n",
       "      <th>4</th>\n",
       "      <td>476.247326</td>\n",
       "      <td>198.333185</td>\n",
       "      <td>3170.296682</td>\n",
       "      <td>964.744691</td>\n",
       "      <td>1240.161677</td>\n",
       "    </tr>\n",
       "  </tbody>\n",
       "</table>\n",
       "</div>"
      ],
      "text/plain": [
       "   Close-Stock-1  Close-Stock-2  Close-Stock-3  Close-Stock-4  Close-Stock-5\n",
       "0     479.667408     202.366006    3084.953802     999.938524    1294.683555\n",
       "1     470.449775     194.575086    3045.467031     959.648997    1220.316296\n",
       "2     470.607667     194.752952    3072.723835     959.585349    1242.834383\n",
       "3     468.387449     198.866506    3110.561047     948.366794    1207.802591\n",
       "4     476.247326     198.333185    3170.296682     964.744691    1240.161677"
      ]
     },
     "execution_count": 263,
     "metadata": {},
     "output_type": "execute_result"
    }
   ],
   "source": [
    "final.head()"
   ]
  },
  {
   "cell_type": "code",
   "execution_count": 264,
   "metadata": {},
   "outputs": [],
   "source": [
    "final['Date'] = df1['Date'].values"
   ]
  },
  {
   "cell_type": "code",
   "execution_count": 265,
   "metadata": {},
   "outputs": [
    {
     "data": {
      "text/html": [
       "<div>\n",
       "<style scoped>\n",
       "    .dataframe tbody tr th:only-of-type {\n",
       "        vertical-align: middle;\n",
       "    }\n",
       "\n",
       "    .dataframe tbody tr th {\n",
       "        vertical-align: top;\n",
       "    }\n",
       "\n",
       "    .dataframe thead th {\n",
       "        text-align: right;\n",
       "    }\n",
       "</style>\n",
       "<table border=\"1\" class=\"dataframe\">\n",
       "  <thead>\n",
       "    <tr style=\"text-align: right;\">\n",
       "      <th></th>\n",
       "      <th>Close-Stock-1</th>\n",
       "      <th>Close-Stock-2</th>\n",
       "      <th>Close-Stock-3</th>\n",
       "      <th>Close-Stock-4</th>\n",
       "      <th>Close-Stock-5</th>\n",
       "      <th>Date</th>\n",
       "    </tr>\n",
       "  </thead>\n",
       "  <tbody>\n",
       "    <tr>\n",
       "      <th>0</th>\n",
       "      <td>479.667408</td>\n",
       "      <td>202.366006</td>\n",
       "      <td>3084.953802</td>\n",
       "      <td>999.938524</td>\n",
       "      <td>1294.683555</td>\n",
       "      <td>2011-08-04</td>\n",
       "    </tr>\n",
       "    <tr>\n",
       "      <th>1</th>\n",
       "      <td>470.449775</td>\n",
       "      <td>194.575086</td>\n",
       "      <td>3045.467031</td>\n",
       "      <td>959.648997</td>\n",
       "      <td>1220.316296</td>\n",
       "      <td>2011-08-05</td>\n",
       "    </tr>\n",
       "    <tr>\n",
       "      <th>2</th>\n",
       "      <td>470.607667</td>\n",
       "      <td>194.752952</td>\n",
       "      <td>3072.723835</td>\n",
       "      <td>959.585349</td>\n",
       "      <td>1242.834383</td>\n",
       "      <td>2011-08-08</td>\n",
       "    </tr>\n",
       "    <tr>\n",
       "      <th>3</th>\n",
       "      <td>468.387449</td>\n",
       "      <td>198.866506</td>\n",
       "      <td>3110.561047</td>\n",
       "      <td>948.366794</td>\n",
       "      <td>1207.802591</td>\n",
       "      <td>2011-08-09</td>\n",
       "    </tr>\n",
       "    <tr>\n",
       "      <th>4</th>\n",
       "      <td>476.247326</td>\n",
       "      <td>198.333185</td>\n",
       "      <td>3170.296682</td>\n",
       "      <td>964.744691</td>\n",
       "      <td>1240.161677</td>\n",
       "      <td>2011-08-10</td>\n",
       "    </tr>\n",
       "  </tbody>\n",
       "</table>\n",
       "</div>"
      ],
      "text/plain": [
       "   Close-Stock-1  Close-Stock-2  Close-Stock-3  Close-Stock-4  Close-Stock-5  \\\n",
       "0     479.667408     202.366006    3084.953802     999.938524    1294.683555   \n",
       "1     470.449775     194.575086    3045.467031     959.648997    1220.316296   \n",
       "2     470.607667     194.752952    3072.723835     959.585349    1242.834383   \n",
       "3     468.387449     198.866506    3110.561047     948.366794    1207.802591   \n",
       "4     476.247326     198.333185    3170.296682     964.744691    1240.161677   \n",
       "\n",
       "         Date  \n",
       "0  2011-08-04  \n",
       "1  2011-08-05  \n",
       "2  2011-08-08  \n",
       "3  2011-08-09  \n",
       "4  2011-08-10  "
      ]
     },
     "execution_count": 265,
     "metadata": {},
     "output_type": "execute_result"
    }
   ],
   "source": [
    "final.head()"
   ]
  },
  {
   "cell_type": "code",
   "execution_count": 266,
   "metadata": {},
   "outputs": [],
   "source": [
    "final = final[['Date', 'Close-Stock-1', 'Close-Stock-2','Close-Stock-3','Close-Stock-4', 'Close-Stock-5']]"
   ]
  },
  {
   "cell_type": "code",
   "execution_count": 255,
   "metadata": {},
   "outputs": [],
   "source": [
    "final.to_csv('output.csv', index = False)"
   ]
  },
  {
   "cell_type": "code",
   "execution_count": null,
   "metadata": {},
   "outputs": [],
   "source": []
  }
 ],
 "metadata": {
  "kernelspec": {
   "display_name": "Python 3",
   "language": "python",
   "name": "python3"
  },
  "language_info": {
   "codemirror_mode": {
    "name": "ipython",
    "version": 3
   },
   "file_extension": ".py",
   "mimetype": "text/x-python",
   "name": "python",
   "nbconvert_exporter": "python",
   "pygments_lexer": "ipython3",
   "version": "3.7.0"
  }
 },
 "nbformat": 4,
 "nbformat_minor": 2
}
